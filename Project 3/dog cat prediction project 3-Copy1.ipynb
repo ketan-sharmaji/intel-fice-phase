{
 "cells": [
  {
   "cell_type": "markdown",
   "id": "3c763a5d",
   "metadata": {},
   "source": [
    "### Importing the libraries"
   ]
  },
  {
   "cell_type": "code",
   "execution_count": 1,
   "id": "c7c0cca7",
   "metadata": {},
   "outputs": [],
   "source": [
    "import tensorflow as tf\n",
    "from keras.preprocessing.image import ImageDataGenerator\n",
    "import matplotlib.pyplot as plt"
   ]
  },
  {
   "cell_type": "markdown",
   "id": "c71b8885",
   "metadata": {},
   "source": [
    "### Data Preprocessing"
   ]
  },
  {
   "cell_type": "markdown",
   "id": "b202eb44",
   "metadata": {},
   "source": [
    "### Preprocessing the training set"
   ]
  },
  {
   "cell_type": "code",
   "execution_count": 2,
   "id": "86f4e472",
   "metadata": {},
   "outputs": [
    {
     "name": "stdout",
     "output_type": "stream",
     "text": [
      "Found 10028 images belonging to 2 classes.\n"
     ]
    }
   ],
   "source": [
    "train_datagen= ImageDataGenerator(rescale=1./255,\n",
    "                                 shear_range=0.2,\n",
    "                                 zoom_range=0.2,\n",
    "                                 horizontal_flip='true')\n",
    "training_set= train_datagen.flow_from_directory('C:/Users/91790/Downloads/archive (1)/training_set/training_set',\n",
    "                                               target_size=(64,64),\n",
    "                                               batch_size=16,\n",
    "                                               class_mode='binary')"
   ]
  },
  {
   "cell_type": "markdown",
   "id": "30a9363a",
   "metadata": {},
   "source": [
    "### Preprocessing the test set"
   ]
  },
  {
   "cell_type": "code",
   "execution_count": 3,
   "id": "71e02b30",
   "metadata": {},
   "outputs": [
    {
     "name": "stdout",
     "output_type": "stream",
     "text": [
      "Found 2023 images belonging to 2 classes.\n"
     ]
    }
   ],
   "source": [
    "test_datagen= ImageDataGenerator(rescale=1./255)\n",
    "test_set= test_datagen.flow_from_directory('C:/Users/91790/Downloads/archive (1)/test_set/test_set',\n",
    "                                          target_size=(64,64),\n",
    "                                          batch_size=16,\n",
    "                                          class_mode='binary')"
   ]
  },
  {
   "cell_type": "markdown",
   "id": "a5da65f8",
   "metadata": {},
   "source": [
    "### Building the CNN"
   ]
  },
  {
   "cell_type": "markdown",
   "id": "bb02b110",
   "metadata": {},
   "source": [
    "### Initialising the CNN"
   ]
  },
  {
   "cell_type": "code",
   "execution_count": 4,
   "id": "613870fd",
   "metadata": {},
   "outputs": [],
   "source": [
    "cnn=tf.keras.models.Sequential()"
   ]
  },
  {
   "cell_type": "markdown",
   "id": "10cef796",
   "metadata": {},
   "source": [
    "### Convolution"
   ]
  },
  {
   "cell_type": "code",
   "execution_count": 5,
   "id": "77f4961e",
   "metadata": {},
   "outputs": [],
   "source": [
    " cnn.add(tf.keras.layers.Conv2D(filters=32, kernel_size=3, activation='relu', input_shape=[64, 64, 3]))"
   ]
  },
  {
   "cell_type": "markdown",
   "id": "aa888d53",
   "metadata": {},
   "source": [
    "### Pooling"
   ]
  },
  {
   "cell_type": "code",
   "execution_count": 6,
   "id": "ed8358ce",
   "metadata": {},
   "outputs": [],
   "source": [
    "cnn.add(tf.keras.layers.MaxPool2D(pool_size=2, strides=2))"
   ]
  },
  {
   "cell_type": "markdown",
   "id": "0b67a0e9",
   "metadata": {},
   "source": [
    "### Adding the second convolution layer"
   ]
  },
  {
   "cell_type": "code",
   "execution_count": 7,
   "id": "585e3299",
   "metadata": {},
   "outputs": [],
   "source": [
    "cnn.add(tf.keras.layers.Conv2D(filters=40, kernel_size=3, activation='relu'))\n",
    "cnn.add(tf.keras.layers.MaxPool2D(pool_size=2, strides=2))"
   ]
  },
  {
   "cell_type": "markdown",
   "id": "f514e97b",
   "metadata": {},
   "source": [
    "### Flattening"
   ]
  },
  {
   "cell_type": "code",
   "execution_count": 8,
   "id": "fef0de35",
   "metadata": {},
   "outputs": [],
   "source": [
    "cnn.add(tf.keras.layers.Flatten())"
   ]
  },
  {
   "cell_type": "markdown",
   "id": "15b7b06f",
   "metadata": {},
   "source": [
    "### Full connection"
   ]
  },
  {
   "cell_type": "code",
   "execution_count": 9,
   "id": "d938ee76",
   "metadata": {},
   "outputs": [],
   "source": [
    "cnn.add(tf.keras.layers.Dense(units=128, activation='relu'))"
   ]
  },
  {
   "cell_type": "markdown",
   "id": "b1fc547d",
   "metadata": {},
   "source": [
    "### Output layer"
   ]
  },
  {
   "cell_type": "code",
   "execution_count": 10,
   "id": "1daaf2db",
   "metadata": {},
   "outputs": [],
   "source": [
    "cnn.add(tf.keras.layers.Dense(units=1, activation='sigmoid'))"
   ]
  },
  {
   "cell_type": "markdown",
   "id": "95ba50d9",
   "metadata": {},
   "source": [
    "### Training the CNN"
   ]
  },
  {
   "cell_type": "markdown",
   "id": "8ee631d0",
   "metadata": {},
   "source": [
    "### Compiling the CNN"
   ]
  },
  {
   "cell_type": "code",
   "execution_count": 11,
   "id": "89550ad9",
   "metadata": {},
   "outputs": [],
   "source": [
    "cnn.compile(optimizer = 'adam', loss = 'binary_crossentropy', metrics = ['accuracy'])"
   ]
  },
  {
   "cell_type": "markdown",
   "id": "490fea3b",
   "metadata": {},
   "source": [
    "### Training the CNN on the training set and evaluating it on test set"
   ]
  },
  {
   "cell_type": "code",
   "execution_count": 12,
   "id": "f3832e52",
   "metadata": {
    "scrolled": false
   },
   "outputs": [
    {
     "name": "stdout",
     "output_type": "stream",
     "text": [
      "Epoch 1/20\n",
      "627/627 [==============================] - 55s 87ms/step - loss: 0.6683 - accuracy: 0.5963 - val_loss: 0.6180 - val_accuracy: 0.6777\n",
      "Epoch 2/20\n",
      "627/627 [==============================] - 47s 74ms/step - loss: 0.5904 - accuracy: 0.6877 - val_loss: 0.5496 - val_accuracy: 0.7207\n",
      "Epoch 3/20\n",
      "627/627 [==============================] - 46s 74ms/step - loss: 0.5392 - accuracy: 0.7234 - val_loss: 0.5153 - val_accuracy: 0.7509\n",
      "Epoch 4/20\n",
      "627/627 [==============================] - 47s 74ms/step - loss: 0.5000 - accuracy: 0.7569 - val_loss: 0.4875 - val_accuracy: 0.7578\n",
      "Epoch 5/20\n",
      "627/627 [==============================] - 47s 75ms/step - loss: 0.4752 - accuracy: 0.7722 - val_loss: 0.4520 - val_accuracy: 0.7919\n",
      "Epoch 6/20\n",
      "627/627 [==============================] - 47s 75ms/step - loss: 0.4542 - accuracy: 0.7855 - val_loss: 0.4330 - val_accuracy: 0.7963\n",
      "Epoch 7/20\n",
      "627/627 [==============================] - 47s 75ms/step - loss: 0.4311 - accuracy: 0.7985 - val_loss: 0.3689 - val_accuracy: 0.8354\n",
      "Epoch 8/20\n",
      "627/627 [==============================] - 47s 75ms/step - loss: 0.4179 - accuracy: 0.8120 - val_loss: 0.3564 - val_accuracy: 0.8453\n",
      "Epoch 9/20\n",
      "627/627 [==============================] - 47s 75ms/step - loss: 0.4000 - accuracy: 0.8208 - val_loss: 0.4215 - val_accuracy: 0.7944\n",
      "Epoch 10/20\n",
      "627/627 [==============================] - 48s 76ms/step - loss: 0.3855 - accuracy: 0.8256 - val_loss: 0.3663 - val_accuracy: 0.8285\n",
      "Epoch 11/20\n",
      "627/627 [==============================] - 48s 76ms/step - loss: 0.3688 - accuracy: 0.8349 - val_loss: 0.3070 - val_accuracy: 0.8660\n",
      "Epoch 12/20\n",
      "627/627 [==============================] - 48s 76ms/step - loss: 0.3502 - accuracy: 0.8466 - val_loss: 0.2737 - val_accuracy: 0.8868\n",
      "Epoch 13/20\n",
      "627/627 [==============================] - 48s 77ms/step - loss: 0.3332 - accuracy: 0.8564 - val_loss: 0.2724 - val_accuracy: 0.8858\n",
      "Epoch 14/20\n",
      "627/627 [==============================] - 44s 70ms/step - loss: 0.3287 - accuracy: 0.8585 - val_loss: 0.2488 - val_accuracy: 0.8992\n",
      "Epoch 15/20\n",
      "627/627 [==============================] - 41s 66ms/step - loss: 0.3020 - accuracy: 0.8660 - val_loss: 0.2287 - val_accuracy: 0.9086\n",
      "Epoch 16/20\n",
      "627/627 [==============================] - 41s 65ms/step - loss: 0.2907 - accuracy: 0.8756 - val_loss: 0.2088 - val_accuracy: 0.9165\n",
      "Epoch 17/20\n",
      "627/627 [==============================] - 42s 68ms/step - loss: 0.2857 - accuracy: 0.8770 - val_loss: 0.2172 - val_accuracy: 0.9125\n",
      "Epoch 18/20\n",
      "627/627 [==============================] - 43s 68ms/step - loss: 0.2650 - accuracy: 0.8890 - val_loss: 0.1976 - val_accuracy: 0.9229\n",
      "Epoch 19/20\n",
      "627/627 [==============================] - 43s 68ms/step - loss: 0.2452 - accuracy: 0.8996 - val_loss: 0.1682 - val_accuracy: 0.9362\n",
      "Epoch 20/20\n",
      "627/627 [==============================] - 43s 69ms/step - loss: 0.2339 - accuracy: 0.9054 - val_loss: 0.1548 - val_accuracy: 0.9417\n"
     ]
    },
    {
     "data": {
      "text/plain": [
       "<keras.callbacks.History at 0x26a225e1580>"
      ]
     },
     "execution_count": 12,
     "metadata": {},
     "output_type": "execute_result"
    }
   ],
   "source": [
    "cnn.fit(x = training_set, validation_data = test_set, epochs = 20)"
   ]
  },
  {
   "cell_type": "markdown",
   "id": "72216367",
   "metadata": {},
   "source": [
    "### Making a single prediction"
   ]
  },
  {
   "cell_type": "code",
   "execution_count": 20,
   "id": "5c1b6474",
   "metadata": {},
   "outputs": [
    {
     "name": "stdout",
     "output_type": "stream",
     "text": [
      "1/1 [==============================] - 0s 10ms/step\n"
     ]
    }
   ],
   "source": [
    "import numpy as np\n",
    "from keras.preprocessing import image\n",
    "test_image =  tf.keras.utils.load_img('C:/Users/91790/Desktop/intel/uu.jpg', target_size = (64, 64))\n",
    "test_image =  tf.keras.utils.img_to_array(test_image)\n",
    "test_image = np.expand_dims(test_image, axis = 0)\n",
    "result = cnn.predict(test_image)\n",
    "training_set.class_indices\n",
    "if result[0][0] == 1:\n",
    "  prediction = 'cat'\n",
    "else:\n",
    "  prediction = 'dog'"
   ]
  },
  {
   "cell_type": "code",
   "execution_count": 21,
   "id": "d8873c17",
   "metadata": {},
   "outputs": [
    {
     "name": "stdout",
     "output_type": "stream",
     "text": [
      "cat\n"
     ]
    }
   ],
   "source": [
    "print(prediction)"
   ]
  },
  {
   "cell_type": "code",
   "execution_count": 22,
   "id": "19bbaae4",
   "metadata": {},
   "outputs": [
    {
     "name": "stdout",
     "output_type": "stream",
     "text": [
      "Model: \"sequential\"\n",
      "_________________________________________________________________\n",
      " Layer (type)                Output Shape              Param #   \n",
      "=================================================================\n",
      " conv2d (Conv2D)             (None, 62, 62, 32)        896       \n",
      "                                                                 \n",
      " max_pooling2d (MaxPooling2D  (None, 31, 31, 32)       0         \n",
      " )                                                               \n",
      "                                                                 \n",
      " conv2d_1 (Conv2D)           (None, 29, 29, 40)        11560     \n",
      "                                                                 \n",
      " max_pooling2d_1 (MaxPooling  (None, 14, 14, 40)       0         \n",
      " 2D)                                                             \n",
      "                                                                 \n",
      " flatten (Flatten)           (None, 7840)              0         \n",
      "                                                                 \n",
      " dense (Dense)               (None, 128)               1003648   \n",
      "                                                                 \n",
      " dense_1 (Dense)             (None, 1)                 129       \n",
      "                                                                 \n",
      "=================================================================\n",
      "Total params: 1,016,233\n",
      "Trainable params: 1,016,233\n",
      "Non-trainable params: 0\n",
      "_________________________________________________________________\n"
     ]
    }
   ],
   "source": [
    "cnn.summary()"
   ]
  }
 ],
 "metadata": {
  "kernelspec": {
   "display_name": "Python 3 (ipykernel)",
   "language": "python",
   "name": "python3"
  },
  "language_info": {
   "codemirror_mode": {
    "name": "ipython",
    "version": 3
   },
   "file_extension": ".py",
   "mimetype": "text/x-python",
   "name": "python",
   "nbconvert_exporter": "python",
   "pygments_lexer": "ipython3",
   "version": "3.9.12"
  }
 },
 "nbformat": 4,
 "nbformat_minor": 5
}
